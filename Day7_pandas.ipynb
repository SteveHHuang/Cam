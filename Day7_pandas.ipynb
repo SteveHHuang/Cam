{
 "cells": [
  {
   "cell_type": "code",
   "execution_count": 1,
   "metadata": {},
   "outputs": [
    {
     "name": "stdout",
     "output_type": "stream",
     "text": [
      "A    10\n",
      "B    20\n",
      "C    30\n",
      "D    40\n",
      "dtype: int64\n",
      "20\n"
     ]
    }
   ],
   "source": [
    "import sys\n",
    "sys.path.append(\"/Users/stevehuang/anaconda3/lib/python3.11/site-packages\")\n",
    "sys.path.append(\"/Users/stevehuang/venv/lib/python3.11/site-packages\")\n",
    "\n",
    "import pandas as pd\n",
    "import numpy as np\n",
    "\n",
    "series = pd.Series([10, 20, 30, 40], ['A', 'B', 'C', 'D'])\n",
    "print(series)\n",
    "print(series['B'])\n",
    "#print(series[1])\n"
   ]
  },
  {
   "cell_type": "code",
   "execution_count": 2,
   "metadata": {},
   "outputs": [
    {
     "name": "stdout",
     "output_type": "stream",
     "text": [
      "     Name Nationality  Height\n",
      "0   Boran      Turkey     177\n",
      "1  Dervla    Scotland     181\n",
      "2   Steve       China     186\n",
      "3     Ela      Turkey     164\n",
      "4   Loana     Romania     160\n",
      "5   Maria     Romania     159\n",
      "6   Timur    Slovania     172\n",
      "mean Height    171.285714\n",
      "dtype: float64\n",
      "describe            Height\n",
      "count    7.000000\n",
      "mean   171.285714\n",
      "std     10.609968\n",
      "min    159.000000\n",
      "25%    162.000000\n",
      "50%    172.000000\n",
      "75%    179.000000\n",
      "max    186.000000\n",
      "maximum Height    186\n",
      "dtype: int64\n",
      "minumum Height    159\n",
      "dtype: int64\n"
     ]
    }
   ],
   "source": [
    "data = { 'Name' : [ 'Boran' , 'Dervla' , 'Steve' ,'Ela','Loana','Maria','Timur'],\n",
    "'Nationality' : [ 'Turkey', 'Scotland', 'China', 'Turkey', 'Romania', 'Romania', 'Slovania'],\n",
    "'Height' : [ 177 , 181 , 186, 164, 160, 159, 172]}\n",
    "\n",
    "\n",
    "\n",
    "df = pd.DataFrame(data,  columns=['Name', 'Nationality', 'Height'])\n",
    "#df = pd.DataFrame(data2T, index=[1, 2, 4], columns=['Name', 'Age', 'Height'])\n",
    "print(df)\n",
    "print(\"mean\", df[['Height']].mean())\n",
    "print(\"describe\", df[['Height']].describe())\n",
    "print(\"maximum\", df[['Height']].max())\n",
    "print(\"minumum\", df[['Height']].min())\n",
    "#print(f\"standard deviation {0}\", df[['Age', 'Height']].std())"
   ]
  }
 ],
 "metadata": {
  "kernelspec": {
   "display_name": "Python 3",
   "language": "python",
   "name": "python3"
  },
  "language_info": {
   "codemirror_mode": {
    "name": "ipython",
    "version": 3
   },
   "file_extension": ".py",
   "mimetype": "text/x-python",
   "name": "python",
   "nbconvert_exporter": "python",
   "pygments_lexer": "ipython3",
   "version": "3.11.4"
  },
  "orig_nbformat": 4
 },
 "nbformat": 4,
 "nbformat_minor": 2
}
