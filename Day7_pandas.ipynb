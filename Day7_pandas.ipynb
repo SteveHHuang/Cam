{
 "cells": [
  {
   "cell_type": "code",
   "execution_count": 1,
   "metadata": {},
   "outputs": [
    {
     "name": "stdout",
     "output_type": "stream",
     "text": [
      "A    10\n",
      "B    20\n",
      "C    30\n",
      "D    40\n",
      "dtype: int64\n",
      "20\n"
     ]
    }
   ],
   "source": [
    "import pandas as pd\n",
    "import numpy as np\n",
    "\n",
    "series = pd.Series([10, 20, 30, 40], ['A', 'B', 'C', 'D'])\n",
    "print(series)\n",
    "print(series['B'])\n",
    "#print(series[1])\n"
   ]
  },
  {
   "cell_type": "code",
   "execution_count": 2,
   "metadata": {},
   "outputs": [
    {
     "ename": "NameError",
     "evalue": "name 'pd' is not defined",
     "output_type": "error",
     "traceback": [
      "\u001b[0;31m---------------------------------------------------------------------------\u001b[0m",
      "\u001b[0;31mNameError\u001b[0m                                 Traceback (most recent call last)",
      "Cell \u001b[0;32mIn[2], line 8\u001b[0m\n\u001b[1;32m      1\u001b[0m \u001b[39mimport\u001b[39;00m \u001b[39mnumpy\u001b[39;00m \u001b[39mas\u001b[39;00m \u001b[39mnp\u001b[39;00m\n\u001b[1;32m      2\u001b[0m data \u001b[39m=\u001b[39m { \u001b[39m'\u001b[39m\u001b[39mName\u001b[39m\u001b[39m'\u001b[39m : [ \u001b[39m'\u001b[39m\u001b[39mBoran\u001b[39m\u001b[39m'\u001b[39m , \u001b[39m'\u001b[39m\u001b[39mDervla\u001b[39m\u001b[39m'\u001b[39m , \u001b[39m'\u001b[39m\u001b[39mSteve\u001b[39m\u001b[39m'\u001b[39m ,\u001b[39m'\u001b[39m\u001b[39mEla\u001b[39m\u001b[39m'\u001b[39m,\u001b[39m'\u001b[39m\u001b[39mLoana\u001b[39m\u001b[39m'\u001b[39m,\u001b[39m'\u001b[39m\u001b[39mMaria\u001b[39m\u001b[39m'\u001b[39m,\u001b[39m'\u001b[39m\u001b[39mTimur\u001b[39m\u001b[39m'\u001b[39m],\n\u001b[1;32m      3\u001b[0m \u001b[39m'\u001b[39m\u001b[39mNationality\u001b[39m\u001b[39m'\u001b[39m : [ \u001b[39m'\u001b[39m\u001b[39mTurkey\u001b[39m\u001b[39m'\u001b[39m, \u001b[39m'\u001b[39m\u001b[39mScotland\u001b[39m\u001b[39m'\u001b[39m, \u001b[39m'\u001b[39m\u001b[39mChina\u001b[39m\u001b[39m'\u001b[39m, \u001b[39m'\u001b[39m\u001b[39mTurkey\u001b[39m\u001b[39m'\u001b[39m, \u001b[39m'\u001b[39m\u001b[39mRomania\u001b[39m\u001b[39m'\u001b[39m, \u001b[39m'\u001b[39m\u001b[39mRomania\u001b[39m\u001b[39m'\u001b[39m, \u001b[39m'\u001b[39m\u001b[39mSlovania\u001b[39m\u001b[39m'\u001b[39m],\n\u001b[1;32m      4\u001b[0m \u001b[39m'\u001b[39m\u001b[39mHeight\u001b[39m\u001b[39m'\u001b[39m : [ \u001b[39m177\u001b[39m , \u001b[39m181\u001b[39m , \u001b[39m186\u001b[39m, \u001b[39m164\u001b[39m, \u001b[39m160\u001b[39m, \u001b[39m159\u001b[39m, \u001b[39m172\u001b[39m]}\n\u001b[0;32m----> 8\u001b[0m df \u001b[39m=\u001b[39m pd\u001b[39m.\u001b[39mDataFrame(data,  columns\u001b[39m=\u001b[39m[\u001b[39m'\u001b[39m\u001b[39mName\u001b[39m\u001b[39m'\u001b[39m, \u001b[39m'\u001b[39m\u001b[39mNationality\u001b[39m\u001b[39m'\u001b[39m, \u001b[39m'\u001b[39m\u001b[39mHeight\u001b[39m\u001b[39m'\u001b[39m])\n\u001b[1;32m      9\u001b[0m \u001b[39m#df = pd.DataFrame(data2T, index=[1, 2, 4], columns=['Name', 'Age', 'Height'])\u001b[39;00m\n\u001b[1;32m     10\u001b[0m \u001b[39mprint\u001b[39m(df)\n",
      "\u001b[0;31mNameError\u001b[0m: name 'pd' is not defined"
     ]
    }
   ],
   "source": [
    "import pandas as pd\n",
    "data = { 'Name' : [ 'Boran' , 'Dervla' , 'Steve' ,'Ela','Loana','Maria','Timur'],\n",
    "'Nationality' : [ 'Turkey', 'Scotland', 'China', 'Turkey', 'Romania', 'Romania', 'Slovania'],\n",
    "'Height' : [ 177 , 181 , 186, 164, 160, 159, 172]}\n",
    "\n",
    "\n",
    "\n",
    "df = pd.DataFrame(data,  columns=['Name', 'Nationality', 'Height'])\n",
    "#df = pd.DataFrame(data2T, index=[1, 2, 4], columns=['Name', 'Age', 'Height'])\n",
    "print(df)\n",
    "print(\"mean\", df[['Height']].mean())\n",
    "print(\"describe\", df[['Height']].describe())\n",
    "print(\"maximum\", df[['Height']].max())\n",
    "print(\"minumum\", df[['Height']].min())\n",
    "#print(f\"standard deviation {0}\", df[['Age', 'Height']].std())"
   ]
  }
 ],
 "metadata": {
  "kernelspec": {
   "display_name": "Python 3",
   "language": "python",
   "name": "python3"
  },
  "language_info": {
   "codemirror_mode": {
    "name": "ipython",
    "version": 3
   },
   "file_extension": ".py",
   "mimetype": "text/x-python",
   "name": "python",
   "nbconvert_exporter": "python",
   "pygments_lexer": "ipython3",
   "version": "3.11.4"
  },
  "orig_nbformat": 4
 },
 "nbformat": 4,
 "nbformat_minor": 2
}
