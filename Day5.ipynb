{
 "cells": [
  {
   "cell_type": "code",
   "execution_count": 2,
   "metadata": {},
   "outputs": [
    {
     "name": "stdout",
     "output_type": "stream",
     "text": [
      "Currently evaluated instruction (0, 'C', 5)\n",
      "Currently evaluated instruction (1, 'C', 6)\n",
      "Currently evaluated instruction (0, '*', 1, 3)\n",
      "Currently evaluated instruction (0, '+', 1, 2)\n",
      "Currently evaluated instruction (2, '+', 3, 2)\n",
      "Currently evaluated instruction (1, 'IF', 3, 0, 6)\n",
      "Currently evaluated instruction (3, 'C', -1)\n",
      "[5, 6, 41, -1]\n"
     ]
    }
   ],
   "source": [
    "M = [0, 0, 0, 0]\n",
    "R = [0, 0, 0, 0]\n",
    "PC = 0\n",
    "\n",
    "\"\"\"\n",
    "begin: \n",
    "a = 5\n",
    "b = 6\n",
    "c = a * b + (a + b)\n",
    "if (b > c):\n",
    "  goto begin  \n",
    "else: \n",
    "  d = -1\n",
    "\"\"\"\n",
    "listOfInstructions =[(0, \"C\", 5),\n",
    "      (1, \"C\", 6),\n",
    "      (0, \"*\", 1, 3),\n",
    "      (0, \"+\", 1, 2),\n",
    "      (2, \"+\", 3, 2),\n",
    "      (1,\"IF\", 3, 0, 6),\n",
    "      (3, \"C\", -1)]\n",
    "\"\"\"\n",
    " After this sequence of operations is evaluated, memory should be: [5, 6, 11, 0]\n",
    "M = [5, 0, 0, 0]\n",
    "M = [5, 6, 0, 0]\n",
    "M = [5, 6, 11, 0]\n",
    "\n",
    "You should write a function that evaluates a list of the following instructions\n",
    "two instructions:\n",
    "1) (memoryAddress1, oper, memoryAddress2, memoryAddres3)\n",
    "     after evaluating operation oper of two values in memoryAddress1 and memoryAddress2 store this to\n",
    "     memoryAddress3\n",
    "2) (memoryAddress1, \"C\", const)\n",
    "     store constant const on the address memoryAddress1\n",
    "3) (memoryAddress1, \"IF\", memoryAddress2, pcIf, pcElse):    PC = program counter\n",
    "  if M[memoryAddress1] > M[memoryAddress2]:\n",
    "     PC = pcIf\n",
    "  else:\n",
    "     PC=  pcElse\n",
    " \"\"\"\n",
    "def evalListOfInstructions(listOfInstructions, M, PC):\n",
    "  while (PC < len(listOfInstructions)):\n",
    "    instr = listOfInstructions[PC]\n",
    "    print(\"Currently evaluated instruction\", instr)\n",
    "    if len(instr) == 3:\n",
    "       addr = instr[0]\n",
    "       const = instr[2]\n",
    "       M[addr] = const\n",
    "       PC = PC+1\n",
    "    elif len(instr) == 4:\n",
    "         addr1 = instr[0]\n",
    "         addr2 = instr[2]\n",
    "         addr3 = instr[3]\n",
    "         op = instr[1]\n",
    "         if op == \"+\":  \n",
    "           M[addr3] = M[addr1] + M[addr2]\n",
    "         if op == \"-\":\n",
    "           M[addr3] = M[addr1] + M[addr2]\n",
    "         if op == \"*\":\n",
    "           M[addr3] = M[addr1] * M[addr2]\n",
    "         if op == \"/\":\n",
    "           M[addr3] = M[addr1] / M[addr2]\n",
    "         PC = PC+1\n",
    "    elif len(instr) == 5:\n",
    "       addr1 = instr[0]\n",
    "       addr2 = instr[2]\n",
    "       pcIf = instr[3]\n",
    "       pcElse = instr[4]\n",
    "       if M[addr1] > M[addr2]:\n",
    "        PC = pcIf\n",
    "       else:\n",
    "        PC = pcElse\n",
    "       \n",
    "\n",
    "    # Code that evaluates instruction by instruction in listOfInsructions\n",
    "  return M\n",
    "evalListOfInstructions(listOfInstructions, M, PC)\n",
    "print(M)"
   ]
  },
  {
   "cell_type": "code",
   "execution_count": null,
   "metadata": {},
   "outputs": [],
   "source": [
    "            "
   ]
  }
 ],
 "metadata": {
  "kernelspec": {
   "display_name": "Python 3",
   "language": "python",
   "name": "python3"
  },
  "language_info": {
   "codemirror_mode": {
    "name": "ipython",
    "version": 3
   },
   "file_extension": ".py",
   "mimetype": "text/x-python",
   "name": "python",
   "nbconvert_exporter": "python",
   "pygments_lexer": "ipython3",
   "version": "3.11.4"
  },
  "orig_nbformat": 4
 },
 "nbformat": 4,
 "nbformat_minor": 2
}
