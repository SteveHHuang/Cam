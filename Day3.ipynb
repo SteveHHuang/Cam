{
 "cells": [
  {
   "cell_type": "code",
   "execution_count": 1,
   "metadata": {},
   "outputs": [
    {
     "name": "stdout",
     "output_type": "stream",
     "text": [
      "5\n",
      "-1\n",
      "False\n"
     ]
    }
   ],
   "source": [
    "# e is an element that we search for\n",
    "# l is a list in which we search an element\n",
    "def linear_search(l: list, e):\n",
    "  # len(l)\n",
    "  print(len(l))\n",
    "  print(e)\n",
    "  \"\"\"\n",
    "  for i in range(0, len(l)):\n",
    "    if (l[i] == e):\n",
    "      return True\n",
    "  \"\"\"\n",
    "  return False\n",
    "\n",
    "l  = [1, 2, 3, 4, 5]\n",
    "# Should be true\n",
    "print(linear_search(l, -1))\n",
    "# Should be false\n",
    "#print(linear_search(l, 5))"
   ]
  },
  {
   "cell_type": "code",
   "execution_count": 2,
   "metadata": {},
   "outputs": [
    {
     "name": "stdout",
     "output_type": "stream",
     "text": [
      "-1\n"
     ]
    }
   ],
   "source": [
    "l = [1,2,3,4,5]\n",
    "def linear_search(l, e):\n",
    "    for i in range (0,len(l)):\n",
    "        #print(i)\n",
    "        if e == l[i]:\n",
    "            return i\n",
    "        else:\n",
    "            return -1\n",
    "print(linear_search(l, 2)) "
   ]
  },
  {
   "cell_type": "code",
   "execution_count": 3,
   "metadata": {},
   "outputs": [
    {
     "name": "stdout",
     "output_type": "stream",
     "text": [
      "0 2 1\n",
      "True\n",
      "0 2 1\n",
      "0 0 0\n",
      "True\n"
     ]
    }
   ],
   "source": [
    "def mid_idx(s, f):\n",
    "  return (s + f) // 2\n",
    "\n",
    "\n",
    "def binary_search(l: list, e):\n",
    "  s = 0\n",
    "  f = len(l) - 1\n",
    "  while s <= f:\n",
    "    m = mid_idx(s, f) #middle term\n",
    "    print(s, f, m)\n",
    "    if l[m] == e:\n",
    "      return True\n",
    "    elif e > l[m]:\n",
    "      s = m + 1\n",
    "    elif e < l[m]:\n",
    "      f = m - 1\n",
    "  return False\n",
    "\n",
    "l  = [1, 2, 3]\n",
    "# Should be true\n",
    "print(binary_search(l, 2))\n",
    "# Should be false\n",
    "print(binary_search(l, 1))"
   ]
  },
  {
   "cell_type": "code",
   "execution_count": 4,
   "metadata": {},
   "outputs": [
    {
     "name": "stdout",
     "output_type": "stream",
     "text": [
      "[2, 3, 4, 7, 8]\n"
     ]
    }
   ],
   "source": [
    "def insert_elem(l, e):\n",
    "  l.append(e)\n",
    "  for i in range(1, len(l)):\n",
    "    if (l[-i] < l[-i-1]): #starting from the end\n",
    "      t = l[-i]\n",
    "      l[-i] = l[-i-1]\n",
    "      l[-i-1] = t\n",
    "    else:\n",
    "      return\n",
    "\n",
    "def insertion_sort(l: list):\n",
    "  lN = []\n",
    "  for i in range(0, len(l)):\n",
    "    insert_elem(lN, l[i])\n",
    "  return lN\n",
    "\n",
    "l = [3, 2, 7, 8, 4]\n",
    "# Should be 2, 3, 4, 7, 8\n",
    "print(insertion_sort(l))"
   ]
  }
 ],
 "metadata": {
  "kernelspec": {
   "display_name": "Python 3",
   "language": "python",
   "name": "python3"
  },
  "language_info": {
   "codemirror_mode": {
    "name": "ipython",
    "version": 3
   },
   "file_extension": ".py",
   "mimetype": "text/x-python",
   "name": "python",
   "nbconvert_exporter": "python",
   "pygments_lexer": "ipython3",
   "version": "3.11.4"
  },
  "orig_nbformat": 4
 },
 "nbformat": 4,
 "nbformat_minor": 2
}
