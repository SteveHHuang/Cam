{
  "cells": [
    {
      "cell_type": "code",
      "execution_count": 5,
      "metadata": {
        "colab": {
          "base_uri": "https://localhost:8080/"
        },
        "id": "2IN90nEipGJf",
        "outputId": "6d28b339-2118-4535-a758-0514b60c8060"
      },
      "outputs": [
        {
          "name": "stdout",
          "output_type": "stream",
          "text": [
            "[7 5 6]\n"
          ]
        }
      ],
      "source": [
        "import sys\n",
        "sys.path.append(\"/Users/stevehuang/venv/lib/python3.11/site-packages\")\n",
        "import numpy as np\n",
        "\n",
        "a = np.array([7, 5, 6])\n",
        "#b = np.array([1, 77, 2, 3])\n",
        "print(a)\n",
        "#print(b[2])"
      ]
    },
    {
      "cell_type": "code",
      "execution_count": 24,
      "metadata": {
        "colab": {
          "base_uri": "https://localhost:8080/"
        },
        "id": "MHUj9zOYp4I7",
        "outputId": "7e7e1850-8627-43cd-b63f-30ae6edf5e6e"
      },
      "outputs": [
        {
          "name": "stdout",
          "output_type": "stream",
          "text": [
            "[[1 2]\n",
            " [3 4]\n",
            " [5 6]]\n",
            "[[1 2]\n",
            " [6 4]\n",
            " [5 8]]\n"
          ]
        }
      ],
      "source": [
        "a = np.array([[1, 2], [3, 4], [5, 6]])\n",
        "print(a)\n",
        "\n",
        "a[1][0] = 6\n",
        "a[2][1] = 8\n",
        "print(a)"
      ]
    },
    {
      "cell_type": "code",
      "execution_count": 11,
      "metadata": {
        "colab": {
          "base_uri": "https://localhost:8080/"
        },
        "id": "kwitiBdrp6Cb",
        "outputId": "8214aa29-be89-4fc4-fd06-fc178ba064ea"
      },
      "outputs": [],
      "source": [
        "#print(a[1][2])"
      ]
    },
    {
      "cell_type": "code",
      "execution_count": 26,
      "metadata": {
        "colab": {
          "base_uri": "https://localhost:8080/"
        },
        "id": "C7brr17up7qq",
        "outputId": "2f898755-04e7-427d-a8e7-c5c0c4e718aa"
      },
      "outputs": [
        {
          "name": "stdout",
          "output_type": "stream",
          "text": [
            "[[3 3 3]\n",
            " [3 3 3]\n",
            " [3 3 3]\n",
            " [3 3 3]\n",
            " [3 3 3]\n",
            " [3 3 3]\n",
            " [3 3 3]]\n"
          ]
        }
      ],
      "source": [
        "import sys\n",
        "sys.path.append(\"/Users/stevehuang/venv/lib/python3.11/site-packages\")\n",
        "import numpy as np\n",
        "\n",
        "a = np.full((7, 3), 3)\n",
        "print(a)"
      ]
    },
    {
      "cell_type": "code",
      "execution_count": null,
      "metadata": {
        "colab": {
          "base_uri": "https://localhost:8080/"
        },
        "id": "y0W9lUj3p821",
        "outputId": "1691e655-bb5c-4ccf-8933-cf97b0489776"
      },
      "outputs": [
        {
          "name": "stdout",
          "output_type": "stream",
          "text": [
            "[[0. 0. 0.]\n",
            " [0. 0. 0.]\n",
            " [0. 0. 0.]\n",
            " [0. 0. 0.]]\n"
          ]
        }
      ],
      "source": [
        "a = np.zeros((4, 3))\n",
        "print(a)"
      ]
    },
    {
      "cell_type": "code",
      "execution_count": 33,
      "metadata": {
        "colab": {
          "base_uri": "https://localhost:8080/"
        },
        "id": "IBs3x7l9p-bN",
        "outputId": "d526a4ac-462b-4242-d7c1-e70daab5c533"
      },
      "outputs": [
        {
          "name": "stdout",
          "output_type": "stream",
          "text": [
            "[[0. 0. 0. 0. 0. 0.]\n",
            " [0. 0. 0. 0. 0. 0.]\n",
            " [0. 0. 0. 0. 0. 0.]\n",
            " [0. 0. 0. 0. 0. 0.]\n",
            " [0. 0. 0. 0. 0. 0.]\n",
            " [0. 0. 0. 0. 0. 0.]\n",
            " [0. 0. 0. 0. 0. 0.]]\n"
          ]
        }
      ],
      "source": [
        "import sys\n",
        "sys.path.append(\"/Users/stevehuang/venv/lib/python3.11/site-packages\")\n",
        "import numpy as np\n",
        "\n",
        "a = np.empty((7, 6))\n",
        "print(a)"
      ]
    },
    {
      "cell_type": "code",
      "execution_count": null,
      "metadata": {
        "colab": {
          "base_uri": "https://localhost:8080/"
        },
        "id": "xMjwB4jSp_0v",
        "outputId": "808e8594-b83c-4445-a433-eddc12db63b4"
      },
      "outputs": [
        {
          "name": "stdout",
          "output_type": "stream",
          "text": [
            "[[0.16130988 0.89736531 0.49665554]\n",
            " [0.64972949 0.45886122 0.21724161]]\n"
          ]
        }
      ],
      "source": [
        "b=  np.random.random((2 ,3))\n",
        "print(b)\n"
      ]
    },
    {
      "cell_type": "code",
      "execution_count": null,
      "metadata": {
        "colab": {
          "base_uri": "https://localhost:8080/"
        },
        "id": "bM4Fmk62qBgt",
        "outputId": "99b0a17d-102e-44fc-a254-592d8077ac97"
      },
      "outputs": [
        {
          "name": "stdout",
          "output_type": "stream",
          "text": [
            "[10 15 20 25 30 35 40 45]\n"
          ]
        }
      ],
      "source": [
        "a = np.arange(10, 50, 5)\n",
        "print(a)"
      ]
    },
    {
      "cell_type": "code",
      "execution_count": null,
      "metadata": {
        "colab": {
          "base_uri": "https://localhost:8080/"
        },
        "id": "_f0K6u-BqC5R",
        "outputId": "9892efe2-479b-44a1-cbd3-49b67d761dbf"
      },
      "outputs": [
        {
          "name": "stdout",
          "output_type": "stream",
          "text": [
            "[10 15 20 25 30 35 40 45]\n",
            "[10 15 20 25 30 35 40 45]\n",
            "[10 15 20 25 30 35 40 45]\n",
            "[20 30 40 50 60 70 80 90]\n",
            "[12 17 22 27 32 37 42 47]\n"
          ]
        }
      ],
      "source": [
        "print(a)\n",
        "#%%\n",
        "a = np.arange(10, 50, 5)\n",
        "b = a.copy()\n",
        "print(a)\n",
        "print(b)\n",
        "\n",
        "c = a + b\n",
        "print(c)\n",
        "print(a + 2)"
      ]
    },
    {
      "cell_type": "code",
      "execution_count": null,
      "metadata": {
        "colab": {
          "base_uri": "https://localhost:8080/"
        },
        "id": "jp1IeswQqEo4",
        "outputId": "b6c38cb6-2f29-4707-a501-97e15a6c97e5"
      },
      "outputs": [
        {
          "name": "stdout",
          "output_type": "stream",
          "text": [
            "[[5 5 5 5]\n",
            " [5 5 5 5]\n",
            " [5 5 5 5]]\n",
            "[[7 7 7 7]\n",
            " [7 7 7 7]\n",
            " [7 7 7 7]]\n",
            "concatenate:\n",
            " [[5 5 5 5]\n",
            " [5 5 5 5]\n",
            " [5 5 5 5]\n",
            " [7 7 7 7]\n",
            " [7 7 7 7]\n",
            " [7 7 7 7]]\n",
            "vstack:\n",
            " [[5 5 5 5]\n",
            " [5 5 5 5]\n",
            " [5 5 5 5]\n",
            " [7 7 7 7]\n",
            " [7 7 7 7]\n",
            " [7 7 7 7]]\n",
            "hstack:\n",
            " [[5 5 5 5 7 7 7 7]\n",
            " [5 5 5 5 7 7 7 7]\n",
            " [5 5 5 5 7 7 7 7]]\n",
            "stack:\n",
            " [[[5 5 5 5]\n",
            "  [5 5 5 5]\n",
            "  [5 5 5 5]]\n",
            "\n",
            " [[7 7 7 7]\n",
            "  [7 7 7 7]\n",
            "  [7 7 7 7]]]\n",
            "reshaped:\n",
            "[[5 5 5 5]\n",
            " [5 5 5 5]\n",
            " [5 5 5 5]\n",
            " [7 7 7 7]\n",
            " [7 7 7 7]\n",
            " [7 7 7 7]]\n",
            "flattened:0\n",
            " [5 5 5 5 5 5 5 5 5 5 5 5 7 7 7 7 7 7 7 7 7 7 7 7]\n",
            "ravel:0\n",
            " [5 5 5 5 5 5 5 5 5 5 5 5 7 7 7 7 7 7 7 7 7 7 7 7]\n"
          ]
        }
      ],
      "source": [
        "a = np.full((3, 4), 5)\n",
        "print(a)\n",
        "b = np.full((3, 4), 7)\n",
        "print(b)\n",
        "c = np.concatenate((a, b), axis=0)\n",
        "print(f\"concatenate:\\n {c}\")\n",
        "d = np.vstack((a, b))\n",
        "print(f\"vstack:\\n {d}\")\n",
        "d = np.hstack((a, b))\n",
        "print(f\"hstack:\\n {d}\")\n",
        "d = np.stack((a, b))\n",
        "print(f\"stack:\\n {d}\")\n",
        "d = np.reshape(d, (6, 4))\n",
        "print(f\"reshaped:\\n{d}\")\n",
        "print(f\"flattened:{0}\\n\", d.flatten())\n",
        "print(f\"ravel:{0}\\n\", d.ravel())"
      ]
    },
    {
      "cell_type": "code",
      "execution_count": null,
      "metadata": {
        "colab": {
          "base_uri": "https://localhost:8080/"
        },
        "id": "UHBRJs5SqHra",
        "outputId": "a7b0e2ea-3ea9-46ce-ba4e-118df60b8a69"
      },
      "outputs": [
        {
          "name": "stdout",
          "output_type": "stream",
          "text": [
            "[ 10.          18.18181818  26.36363636  34.54545455  42.72727273\n",
            "  50.90909091  59.09090909  67.27272727  75.45454545  83.63636364\n",
            "  91.81818182 100.        ]\n",
            "[[ 10.          18.18181818  26.36363636  34.54545455]\n",
            " [ 42.72727273  50.90909091  59.09090909  67.27272727]\n",
            " [ 75.45454545  83.63636364  91.81818182 100.        ]]\n",
            "[42.72727273 50.90909091 59.09090909 67.27272727]\n",
            "[26.72170628 26.72170628 26.72170628 26.72170628]\n",
            "sub0 [[-3.27272727e+01 -3.27272727e+01 -3.27272727e+01 -3.27272727e+01]\n",
            " [ 0.00000000e+00 -7.10542736e-15  7.10542736e-15  1.42108547e-14]\n",
            " [ 3.27272727e+01  3.27272727e+01  3.27272727e+01  3.27272727e+01]]\n"
          ]
        }
      ],
      "source": [
        "d = np.linspace(10, 100, 12)\n",
        "dResh = d.reshape((3, 4))\n",
        "\n",
        "print(d)\n",
        "print(dResh)\n",
        "print(np.mean(dResh, axis=0))\n",
        "print(np.std(dResh, axis=0))\n",
        "print(f\"sub{0}\", dResh - np.mean(dResh, axis=0))"
      ]
    }
  ],
  "metadata": {
    "colab": {
      "provenance": []
    },
    "kernelspec": {
      "display_name": "Python 3",
      "name": "python3"
    },
    "language_info": {
      "codemirror_mode": {
        "name": "ipython",
        "version": 3
      },
      "file_extension": ".py",
      "mimetype": "text/x-python",
      "name": "python",
      "nbconvert_exporter": "python",
      "pygments_lexer": "ipython3",
      "version": "3.11.4"
    }
  },
  "nbformat": 4,
  "nbformat_minor": 0
}
